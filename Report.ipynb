{
 "cells": [
  {
   "cell_type": "markdown",
   "id": "f47ac4e5",
   "metadata": {},
   "source": [
    "# Data Workflow"
   ]
  },
  {
   "cell_type": "markdown",
   "id": "745e754e",
   "metadata": {},
   "source": [
    "### Python/SQL Setup"
   ]
  },
  {
   "cell_type": "code",
   "execution_count": 8,
   "id": "89dd8db7",
   "metadata": {},
   "outputs": [],
   "source": [
    "from sqlalchemy import create_engine, inspect\n",
    "import psycopg2\n",
    "import psycopg2.extras\n",
    "import json\n",
    "import os\n",
    "import pandas as pd\n",
    "\n",
    "def pgconnect(credential_filepath, db_schema=\"public\"):\n",
    "    with open(credential_filepath) as f:\n",
    "        db_conn_dict = json.load(f)\n",
    "        host       = db_conn_dict['host']\n",
    "        db_user    = db_conn_dict['user']\n",
    "        db_pw      = db_conn_dict['password']\n",
    "        default_db = db_conn_dict['user']\n",
    "        try:\n",
    "            db = create_engine('postgresql+psycopg2://'+db_user+':'+db_pw+'@'+host+'/'+default_db, echo=False)\n",
    "            conn = db.connect()\n",
    "            print('Connected successfully.')\n",
    "        except Exception as e:\n",
    "            print(\"Unable to connect to the database.\")\n",
    "            print(e)\n",
    "            db, conn = None, None\n",
    "        return db,conn"
   ]
  },
  {
   "cell_type": "code",
   "execution_count": 9,
   "id": "800cea4d",
   "metadata": {},
   "outputs": [
    {
     "name": "stdout",
     "output_type": "stream",
     "text": [
      "Connected successfully.\n"
     ]
    }
   ],
   "source": [
    "credentials = \"Credentials.json\"\n",
    "db, conn = pgconnect(credentials)"
   ]
  },
  {
   "cell_type": "code",
   "execution_count": 12,
   "id": "798d74dd",
   "metadata": {},
   "outputs": [
    {
     "data": {
      "text/plain": [
       "['students', 'subjects', 'a', 'b']"
      ]
     },
     "execution_count": 12,
     "metadata": {},
     "output_type": "execute_result"
    }
   ],
   "source": [
    "inspect(db).get_table_names(schema=None)"
   ]
  },
  {
   "cell_type": "markdown",
   "id": "71215533",
   "metadata": {},
   "source": [
    "### Cleaning & Importing "
   ]
  },
  {
   "cell_type": "markdown",
   "id": "f8f434d8",
   "metadata": {},
   "source": [
    "#### Businesses dataset"
   ]
  },
  {
   "cell_type": "code",
   "execution_count": 25,
   "id": "051929a5",
   "metadata": {},
   "outputs": [
    {
     "name": "stdout",
     "output_type": "stream",
     "text": [
      "(12217, 11)\n",
      "Index(['industry_code', 'industry_name', 'sa2_code', 'sa2_name',\n",
      "       '0_to_50k_businesses', '50k_to_200k_businesses',\n",
      "       '200k_to_2m_businesses', '2m_to_5m_businesses', '5m_to_10m_businesses',\n",
      "       '10m_or_more_businesses', 'total_businesses'],\n",
      "      dtype='object')\n",
      "industry_code             object\n",
      "industry_name             object\n",
      "sa2_code                   int64\n",
      "sa2_name                  object\n",
      "0_to_50k_businesses        int64\n",
      "50k_to_200k_businesses     int64\n",
      "200k_to_2m_businesses      int64\n",
      "2m_to_5m_businesses        int64\n",
      "5m_to_10m_businesses       int64\n",
      "10m_or_more_businesses     int64\n",
      "total_businesses           int64\n",
      "dtype: object\n"
     ]
    }
   ],
   "source": [
    "# Businesses dataset\n",
    "business = pd.read_csv(\"Businesses.csv\")\n",
    "print(business.shape)\n",
    "print(business.columns)\n",
    "print(business.dtypes)"
   ]
  },
  {
   "cell_type": "code",
   "execution_count": 29,
   "id": "ae4ce83b",
   "metadata": {},
   "outputs": [
    {
     "data": {
      "text/plain": [
       "4130"
      ]
     },
     "execution_count": 29,
     "metadata": {},
     "output_type": "execute_result"
    }
   ],
   "source": [
    "# Checking if sum of businesses equals total businesses column\n",
    "sum(business[\"0_to_50k_businesses\"]+business[\"50k_to_200k_businesses\"]+business[\"200k_to_2m_businesses\"]+business[\"2m_to_5m_businesses\"]+business[\"5m_to_10m_businesses\"] == business[\"total_businesses\"])"
   ]
  },
  {
   "cell_type": "code",
   "execution_count": 32,
   "id": "ee5821f0",
   "metadata": {},
   "outputs": [
    {
     "data": {
      "text/html": [
       "<div>\n",
       "<style scoped>\n",
       "    .dataframe tbody tr th:only-of-type {\n",
       "        vertical-align: middle;\n",
       "    }\n",
       "\n",
       "    .dataframe tbody tr th {\n",
       "        vertical-align: top;\n",
       "    }\n",
       "\n",
       "    .dataframe thead th {\n",
       "        text-align: right;\n",
       "    }\n",
       "</style>\n",
       "<table border=\"1\" class=\"dataframe\">\n",
       "  <thead>\n",
       "    <tr style=\"text-align: right;\">\n",
       "      <th></th>\n",
       "      <th>sa2_code</th>\n",
       "      <th>sa2_name</th>\n",
       "    </tr>\n",
       "  </thead>\n",
       "  <tbody>\n",
       "    <tr>\n",
       "      <th>0</th>\n",
       "      <td>101021007</td>\n",
       "      <td>Braidwood</td>\n",
       "    </tr>\n",
       "    <tr>\n",
       "      <th>1</th>\n",
       "      <td>101021008</td>\n",
       "      <td>Karabar</td>\n",
       "    </tr>\n",
       "    <tr>\n",
       "      <th>2</th>\n",
       "      <td>101021009</td>\n",
       "      <td>Queanbeyan</td>\n",
       "    </tr>\n",
       "    <tr>\n",
       "      <th>3</th>\n",
       "      <td>101021010</td>\n",
       "      <td>Queanbeyan - East</td>\n",
       "    </tr>\n",
       "    <tr>\n",
       "      <th>4</th>\n",
       "      <td>101021012</td>\n",
       "      <td>Queanbeyan West - Jerrabomberra</td>\n",
       "    </tr>\n",
       "    <tr>\n",
       "      <th>...</th>\n",
       "      <td>...</td>\n",
       "      <td>...</td>\n",
       "    </tr>\n",
       "    <tr>\n",
       "      <th>638</th>\n",
       "      <td>128021538</td>\n",
       "      <td>Sutherland - Kirrawee</td>\n",
       "    </tr>\n",
       "    <tr>\n",
       "      <th>639</th>\n",
       "      <td>128021607</td>\n",
       "      <td>Engadine</td>\n",
       "    </tr>\n",
       "    <tr>\n",
       "      <th>640</th>\n",
       "      <td>128021608</td>\n",
       "      <td>Loftus - Yarrawarrah</td>\n",
       "    </tr>\n",
       "    <tr>\n",
       "      <th>641</th>\n",
       "      <td>128021609</td>\n",
       "      <td>Woronora Heights</td>\n",
       "    </tr>\n",
       "    <tr>\n",
       "      <th>642</th>\n",
       "      <td>199999499</td>\n",
       "      <td>Currently Unknown</td>\n",
       "    </tr>\n",
       "  </tbody>\n",
       "</table>\n",
       "<p>643 rows × 2 columns</p>\n",
       "</div>"
      ],
      "text/plain": [
       "      sa2_code                         sa2_name\n",
       "0    101021007                        Braidwood\n",
       "1    101021008                          Karabar\n",
       "2    101021009                       Queanbeyan\n",
       "3    101021010                Queanbeyan - East\n",
       "4    101021012  Queanbeyan West - Jerrabomberra\n",
       "..         ...                              ...\n",
       "638  128021538            Sutherland - Kirrawee\n",
       "639  128021607                         Engadine\n",
       "640  128021608             Loftus - Yarrawarrah\n",
       "641  128021609                 Woronora Heights\n",
       "642  199999499                Currently Unknown\n",
       "\n",
       "[643 rows x 2 columns]"
      ]
     },
     "execution_count": 32,
     "metadata": {},
     "output_type": "execute_result"
    }
   ],
   "source": [
    "# View of all distinct sa2 regions\n",
    "business[[\"sa2_code\", \"sa2_name\"]].drop_duplicates()"
   ]
  },
  {
   "cell_type": "code",
   "execution_count": null,
   "id": "369c3185",
   "metadata": {},
   "outputs": [],
   "source": []
  }
 ],
 "metadata": {
  "kernelspec": {
   "display_name": "Python 3 (ipykernel)",
   "language": "python",
   "name": "python3"
  },
  "language_info": {
   "codemirror_mode": {
    "name": "ipython",
    "version": 3
   },
   "file_extension": ".py",
   "mimetype": "text/x-python",
   "name": "python",
   "nbconvert_exporter": "python",
   "pygments_lexer": "ipython3",
   "version": "3.9.13"
  }
 },
 "nbformat": 4,
 "nbformat_minor": 5
}

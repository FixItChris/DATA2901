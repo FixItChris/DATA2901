{
 "cells": [
  {
   "cell_type": "markdown",
   "id": "f47ac4e5",
   "metadata": {},
   "source": [
    "# Data Workflow"
   ]
  },
  {
   "cell_type": "markdown",
   "id": "745e754e",
   "metadata": {},
   "source": [
    "### Python/SQL Setup"
   ]
  },
  {
   "cell_type": "code",
   "execution_count": 1,
   "id": "89dd8db7",
   "metadata": {},
   "outputs": [],
   "source": [
    "from sqlalchemy import create_engine, inspect\n",
    "import psycopg2\n",
    "import psycopg2.extras\n",
    "import json\n",
    "import os\n",
    "import pandas as pd\n",
    "\n",
    "def pgconnect(credential_filepath, db_schema=\"public\"):\n",
    "    with open(credential_filepath) as f:\n",
    "        db_conn_dict = json.load(f)\n",
    "        host       = db_conn_dict['host']\n",
    "        db_user    = db_conn_dict['user']\n",
    "        db_pw      = db_conn_dict['password']\n",
    "        default_db = db_conn_dict['user']\n",
    "        try:\n",
    "            db = create_engine('postgresql+psycopg2://'+db_user+':'+db_pw+'@'+host+'/'+default_db, echo=False)\n",
    "            conn = db.connect()\n",
    "            print('Connected successfully.')\n",
    "        except Exception as e:\n",
    "            print(\"Unable to connect to the database.\")\n",
    "            print(e)\n",
    "            db, conn = None, None\n",
    "        return db,conn\n",
    "\n",
    "def query(conn, sqlcmd, args=None, df=True):\n",
    "    result = pd.DataFrame() if df else None\n",
    "    try:\n",
    "        if df:\n",
    "            result = pd.read_sql_query(sqlcmd, conn, params=args)\n",
    "        else:\n",
    "            result = conn.execute(sqlcmd, args).fetchall()\n",
    "            result = result[0] if len(result) == 1 else result\n",
    "    except Exception as e:\n",
    "        print(\"Error encountered: \", e, sep='\\n')\n",
    "    return result"
   ]
  },
  {
   "cell_type": "code",
   "execution_count": 2,
   "id": "800cea4d",
   "metadata": {},
   "outputs": [
    {
     "name": "stdout",
     "output_type": "stream",
     "text": [
      "Connected successfully.\n"
     ]
    }
   ],
   "source": [
    "credentials = \"Credentials.json\"\n",
    "db, conn = pgconnect(credentials)"
   ]
  },
  {
   "cell_type": "code",
   "execution_count": 3,
   "id": "71ec747f",
   "metadata": {},
   "outputs": [
    {
     "data": {
      "text/plain": [
       "<sqlalchemy.engine.cursor.LegacyCursorResult at 0x7fdb8806ae80>"
      ]
     },
     "execution_count": 3,
     "metadata": {},
     "output_type": "execute_result"
    }
   ],
   "source": [
    "# Creating new schema\n",
    "sql = \"\"\"\n",
    "CREATE SCHEMA IF NOT EXISTS SA2;\n",
    "SET search_path TO SA2;\n",
    "\"\"\"\n",
    "conn.execute(sql)"
   ]
  },
  {
   "cell_type": "code",
   "execution_count": 5,
   "id": "021480f9",
   "metadata": {},
   "outputs": [
    {
     "data": {
      "text/html": [
       "<div>\n",
       "<style scoped>\n",
       "    .dataframe tbody tr th:only-of-type {\n",
       "        vertical-align: middle;\n",
       "    }\n",
       "\n",
       "    .dataframe tbody tr th {\n",
       "        vertical-align: top;\n",
       "    }\n",
       "\n",
       "    .dataframe thead th {\n",
       "        text-align: right;\n",
       "    }\n",
       "</style>\n",
       "<table border=\"1\" class=\"dataframe\">\n",
       "  <thead>\n",
       "    <tr style=\"text-align: right;\">\n",
       "      <th></th>\n",
       "      <th>postgis_version</th>\n",
       "    </tr>\n",
       "  </thead>\n",
       "  <tbody>\n",
       "    <tr>\n",
       "      <th>0</th>\n",
       "      <td>3.3 USE_GEOS=1 USE_PROJ=1 USE_STATS=1</td>\n",
       "    </tr>\n",
       "  </tbody>\n",
       "</table>\n",
       "</div>"
      ],
      "text/plain": [
       "                         postgis_version\n",
       "0  3.3 USE_GEOS=1 USE_PROJ=1 USE_STATS=1"
      ]
     },
     "execution_count": 5,
     "metadata": {},
     "output_type": "execute_result"
    }
   ],
   "source": [
    "# Adding PostGIS to SA2 database\n",
    "conn.execute(\"CREATE EXTENSION IF NOT EXISTS postgis SCHEMA SA2;\")\n",
    "query(conn, \"SELECT PostGIS_version()\")"
   ]
  },
  {
   "cell_type": "code",
   "execution_count": 6,
   "id": "b23f0024",
   "metadata": {},
   "outputs": [
    {
     "data": {
      "text/html": [
       "<div>\n",
       "<style scoped>\n",
       "    .dataframe tbody tr th:only-of-type {\n",
       "        vertical-align: middle;\n",
       "    }\n",
       "\n",
       "    .dataframe tbody tr th {\n",
       "        vertical-align: top;\n",
       "    }\n",
       "\n",
       "    .dataframe thead th {\n",
       "        text-align: right;\n",
       "    }\n",
       "</style>\n",
       "<table border=\"1\" class=\"dataframe\">\n",
       "  <thead>\n",
       "    <tr style=\"text-align: right;\">\n",
       "      <th></th>\n",
       "      <th>postgis_version</th>\n",
       "    </tr>\n",
       "  </thead>\n",
       "  <tbody>\n",
       "    <tr>\n",
       "      <th>0</th>\n",
       "      <td>3.3 USE_GEOS=1 USE_PROJ=1 USE_STATS=1</td>\n",
       "    </tr>\n",
       "  </tbody>\n",
       "</table>\n",
       "</div>"
      ],
      "text/plain": [
       "                         postgis_version\n",
       "0  3.3 USE_GEOS=1 USE_PROJ=1 USE_STATS=1"
      ]
     },
     "execution_count": 6,
     "metadata": {},
     "output_type": "execute_result"
    }
   ],
   "source": [
    "# Run if PostGIS is already installed, but not in SA2\n",
    "sql = \"\"\"\n",
    "UPDATE pg_extension\n",
    "SET extrelocatable = TRUE\n",
    "WHERE extname = 'postgis';\n",
    "\n",
    "ALTER EXTENSION postgis\n",
    "SET SCHEMA SA2;\n",
    "\"\"\"\n",
    "#conn.execute(sql)\n",
    "\n",
    "query(conn, \"SELECT PostGIS_version()\")"
   ]
  },
  {
   "cell_type": "markdown",
   "id": "71215533",
   "metadata": {},
   "source": [
    "### Task 1: Cleaning & Importing "
   ]
  },
  {
   "cell_type": "markdown",
   "id": "f8f434d8",
   "metadata": {},
   "source": [
    "#### Businesses dataset"
   ]
  },
  {
   "cell_type": "code",
   "execution_count": 23,
   "id": "051929a5",
   "metadata": {},
   "outputs": [
    {
     "name": "stdout",
     "output_type": "stream",
     "text": [
      "(12217, 11)\n",
      "Index(['industry_code', 'industry_name', 'sa2_code', 'sa2_name',\n",
      "       '0_to_50k_businesses', '50k_to_200k_businesses',\n",
      "       '200k_to_2m_businesses', '2m_to_5m_businesses', '5m_to_10m_businesses',\n",
      "       '10m_or_more_businesses', 'total_businesses'],\n",
      "      dtype='object')\n",
      "industry_code             object\n",
      "industry_name             object\n",
      "sa2_code                   int64\n",
      "sa2_name                  object\n",
      "0_to_50k_businesses        int64\n",
      "50k_to_200k_businesses     int64\n",
      "200k_to_2m_businesses      int64\n",
      "2m_to_5m_businesses        int64\n",
      "5m_to_10m_businesses       int64\n",
      "10m_or_more_businesses     int64\n",
      "total_businesses           int64\n",
      "dtype: object\n"
     ]
    }
   ],
   "source": [
    "# Loading and inspecting the dataset\n",
    "business = pd.read_csv(\"Businesses.csv\")\n",
    "print(business.shape)\n",
    "print(business.columns)\n",
    "print(business.dtypes)"
   ]
  },
  {
   "cell_type": "code",
   "execution_count": 24,
   "id": "ee5821f0",
   "metadata": {},
   "outputs": [
    {
     "data": {
      "text/html": [
       "<div>\n",
       "<style scoped>\n",
       "    .dataframe tbody tr th:only-of-type {\n",
       "        vertical-align: middle;\n",
       "    }\n",
       "\n",
       "    .dataframe tbody tr th {\n",
       "        vertical-align: top;\n",
       "    }\n",
       "\n",
       "    .dataframe thead th {\n",
       "        text-align: right;\n",
       "    }\n",
       "</style>\n",
       "<table border=\"1\" class=\"dataframe\">\n",
       "  <thead>\n",
       "    <tr style=\"text-align: right;\">\n",
       "      <th></th>\n",
       "      <th>industry_code</th>\n",
       "      <th>industry_name</th>\n",
       "    </tr>\n",
       "  </thead>\n",
       "  <tbody>\n",
       "    <tr>\n",
       "      <th>0</th>\n",
       "      <td>A</td>\n",
       "      <td>Agriculture, Forestry and Fishing</td>\n",
       "    </tr>\n",
       "    <tr>\n",
       "      <th>643</th>\n",
       "      <td>B</td>\n",
       "      <td>Mining</td>\n",
       "    </tr>\n",
       "    <tr>\n",
       "      <th>1286</th>\n",
       "      <td>C</td>\n",
       "      <td>Manufacturing</td>\n",
       "    </tr>\n",
       "    <tr>\n",
       "      <th>1929</th>\n",
       "      <td>D</td>\n",
       "      <td>Electricity, Gas, Water and Waste Services</td>\n",
       "    </tr>\n",
       "    <tr>\n",
       "      <th>2572</th>\n",
       "      <td>E</td>\n",
       "      <td>Construction</td>\n",
       "    </tr>\n",
       "    <tr>\n",
       "      <th>3215</th>\n",
       "      <td>F</td>\n",
       "      <td>Wholesale Trade</td>\n",
       "    </tr>\n",
       "    <tr>\n",
       "      <th>3858</th>\n",
       "      <td>G</td>\n",
       "      <td>Retail Trade</td>\n",
       "    </tr>\n",
       "    <tr>\n",
       "      <th>4501</th>\n",
       "      <td>H</td>\n",
       "      <td>Accommodation and Food Services</td>\n",
       "    </tr>\n",
       "    <tr>\n",
       "      <th>5144</th>\n",
       "      <td>I</td>\n",
       "      <td>Transport, Postal and Warehousing</td>\n",
       "    </tr>\n",
       "    <tr>\n",
       "      <th>5787</th>\n",
       "      <td>J</td>\n",
       "      <td>Information Media and Telecommunications</td>\n",
       "    </tr>\n",
       "    <tr>\n",
       "      <th>6430</th>\n",
       "      <td>K</td>\n",
       "      <td>Financial and Insurance Services</td>\n",
       "    </tr>\n",
       "    <tr>\n",
       "      <th>7073</th>\n",
       "      <td>L</td>\n",
       "      <td>Rental, Hiring and Real Estate Services</td>\n",
       "    </tr>\n",
       "    <tr>\n",
       "      <th>7716</th>\n",
       "      <td>M</td>\n",
       "      <td>Professional, Scientific and Technical Services</td>\n",
       "    </tr>\n",
       "    <tr>\n",
       "      <th>8359</th>\n",
       "      <td>N</td>\n",
       "      <td>Administrative and Support Services</td>\n",
       "    </tr>\n",
       "    <tr>\n",
       "      <th>9002</th>\n",
       "      <td>O</td>\n",
       "      <td>Public Administration and Safety</td>\n",
       "    </tr>\n",
       "    <tr>\n",
       "      <th>9645</th>\n",
       "      <td>P</td>\n",
       "      <td>Education and Training</td>\n",
       "    </tr>\n",
       "    <tr>\n",
       "      <th>10288</th>\n",
       "      <td>Q</td>\n",
       "      <td>Health Care and Social Assistance</td>\n",
       "    </tr>\n",
       "    <tr>\n",
       "      <th>10931</th>\n",
       "      <td>R</td>\n",
       "      <td>Arts and Recreation Services</td>\n",
       "    </tr>\n",
       "    <tr>\n",
       "      <th>11574</th>\n",
       "      <td>S</td>\n",
       "      <td>Other Services</td>\n",
       "    </tr>\n",
       "  </tbody>\n",
       "</table>\n",
       "</div>"
      ],
      "text/plain": [
       "      industry_code                                    industry_name\n",
       "0                 A                Agriculture, Forestry and Fishing\n",
       "643               B                                           Mining\n",
       "1286              C                                    Manufacturing\n",
       "1929              D       Electricity, Gas, Water and Waste Services\n",
       "2572              E                                     Construction\n",
       "3215              F                                  Wholesale Trade\n",
       "3858              G                                     Retail Trade\n",
       "4501              H                  Accommodation and Food Services\n",
       "5144              I                Transport, Postal and Warehousing\n",
       "5787              J         Information Media and Telecommunications\n",
       "6430              K                 Financial and Insurance Services\n",
       "7073              L          Rental, Hiring and Real Estate Services\n",
       "7716              M  Professional, Scientific and Technical Services\n",
       "8359              N              Administrative and Support Services\n",
       "9002              O                 Public Administration and Safety\n",
       "9645              P                           Education and Training\n",
       "10288             Q                Health Care and Social Assistance\n",
       "10931             R                     Arts and Recreation Services\n",
       "11574             S                                   Other Services"
      ]
     },
     "execution_count": 24,
     "metadata": {},
     "output_type": "execute_result"
    }
   ],
   "source": [
    "# View of the particular industries accounted for in each SA2 region\n",
    "business[[\"industry_code\", \"industry_name\"]].drop_duplicates()"
   ]
  },
  {
   "cell_type": "code",
   "execution_count": 18,
   "id": "96b557a4",
   "metadata": {},
   "outputs": [],
   "source": [
    "# Removing counts of \"Other Services\" (is this useful?)\n",
    "#business = business[business[\"industry_code\"] != 'S'] "
   ]
  },
  {
   "cell_type": "markdown",
   "id": "f517226e",
   "metadata": {},
   "source": [
    "In addition, we should also check that the count of the businesses in each size category adds to the total_businesses column:"
   ]
  },
  {
   "cell_type": "code",
   "execution_count": 20,
   "id": "ae4ce83b",
   "metadata": {},
   "outputs": [
    {
     "data": {
      "text/plain": [
       "1.0"
      ]
     },
     "execution_count": 20,
     "metadata": {},
     "output_type": "execute_result"
    }
   ],
   "source": [
    "# Checking if sum of businesses equals total businesses column\n",
    "accounted_businesses = sum(business[\"0_to_50k_businesses\"]+business[\"50k_to_200k_businesses\"]+business[\"200k_to_2m_businesses\"]+business[\"2m_to_5m_businesses\"]+business[\"5m_to_10m_businesses\"] == business[\"total_businesses\"])\n",
    "prop_correct_business_sum = accounted_businesses/business.shape[0]\n",
    "round(prop_correct_business_sum, 3)"
   ]
  },
  {
   "cell_type": "markdown",
   "id": "d1ffe088",
   "metadata": {},
   "source": [
    "To improve the quality of the data analysis, these total_businesses values will be corrected to follow the sum of the number of businesses in each category:"
   ]
  },
  {
   "cell_type": "code",
   "execution_count": 15,
   "id": "a9ce11e7",
   "metadata": {},
   "outputs": [],
   "source": [
    "business[\"total_businesses\"] = business[\"0_to_50k_businesses\"]+business[\"50k_to_200k_businesses\"]+business[\"200k_to_2m_businesses\"]+business[\"2m_to_5m_businesses\"]+business[\"5m_to_10m_businesses\"]"
   ]
  },
  {
   "cell_type": "code",
   "execution_count": 32,
   "id": "c8fca4c4",
   "metadata": {},
   "outputs": [],
   "source": [
    "# Adding to postgresql database\n",
    "sql = \"\"\"\n",
    "DROP TABLE IF EXISTS business;\n",
    "CREATE TABLE business (\n",
    "    sa2_code INT,\n",
    "    sa2_name VARCHAR(100),\n",
    "    industry_code CHAR(1),\n",
    "    industry_name VARCHAR(50),\n",
    "    businesses_0_to_50k INT,\n",
    "    businesses_50k_to_200k INT,\n",
    "    businesses_200k_to_2m INT,\n",
    "    businesses_2m_to_5m INT,\n",
    "    businesses_5m_to_10m INT,\n",
    "    businesses_10m_or_more INT,\n",
    "    total_businesses INT,\n",
    "    \n",
    "    PRIMARY KEY (sa2_code, industry_code)\n",
    ");\"\"\"\n",
    "conn.execute(sql);"
   ]
  },
  {
   "cell_type": "markdown",
   "id": "d501d576",
   "metadata": {},
   "source": [
    "## Extra commands"
   ]
  },
  {
   "cell_type": "code",
   "execution_count": 12,
   "id": "798d74dd",
   "metadata": {},
   "outputs": [
    {
     "data": {
      "text/plain": [
       "[]"
      ]
     },
     "execution_count": 12,
     "metadata": {},
     "output_type": "execute_result"
    }
   ],
   "source": [
    "# Checks that all tables are in SA2 schema\n",
    "inspect(db).get_table_names(schema=\"SA2\")"
   ]
  },
  {
   "cell_type": "markdown",
   "id": "4ab99fb9",
   "metadata": {},
   "source": [
    "Todo:\n",
    "\n",
    "Week 10 (tasks 1 and 2):\n",
    "- Import each provided table into python, clean them wherever required, add to sql database\n",
    "- Find our own dataset and do the same\n",
    "- Work out how we will calculate score (probably discuss this in the tutorial)\n",
    "\n",
    "Week 11 (task 3):\n",
    "\n",
    "Week 12 (task 4):\n"
   ]
  }
 ],
 "metadata": {
  "kernelspec": {
   "display_name": "Python 3 (ipykernel)",
   "language": "python",
   "name": "python3"
  },
  "language_info": {
   "codemirror_mode": {
    "name": "ipython",
    "version": 3
   },
   "file_extension": ".py",
   "mimetype": "text/x-python",
   "name": "python",
   "nbconvert_exporter": "python",
   "pygments_lexer": "ipython3",
   "version": "3.9.13"
  }
 },
 "nbformat": 4,
 "nbformat_minor": 5
}
